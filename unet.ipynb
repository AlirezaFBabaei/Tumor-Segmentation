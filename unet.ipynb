{
 "cells": [
  {
   "attachments": {},
   "cell_type": "markdown",
   "metadata": {},
   "source": [
    "# Dataset"
   ]
  },
  {
   "cell_type": "code",
   "execution_count": 1,
   "metadata": {},
   "outputs": [],
   "source": [
    "import os\n",
    "import numpy as np\n",
    "import cv2\n",
    "from glob import glob\n",
    "from sklearn.utils import shuffle\n",
    "import tensorflow as tf\n",
    "from tensorflow.keras.callbacks import ModelCheckpoint, CSVLogger, ReduceLROnPlateau, EarlyStopping, TensorBoard\n",
    "from tensorflow.keras.optimizers import Adam\n",
    "from sklearn.model_selection import train_test_split\n",
    "from metrics import dice_loss, dice_coef, iou"
   ]
  },
  {
   "cell_type": "code",
   "execution_count": 2,
   "metadata": {},
   "outputs": [],
   "source": [
    "Height = 256\n",
    "Width = 256"
   ]
  },
  {
   "cell_type": "code",
   "execution_count": 3,
   "metadata": {},
   "outputs": [],
   "source": [
    "def create_dir(path):\n",
    "    if not os.path.exists(path):\n",
    "        os.makedirs(path)"
   ]
  },
  {
   "cell_type": "code",
   "execution_count": 4,
   "metadata": {},
   "outputs": [],
   "source": [
    "def load_dataset(path, split = 0.2):\n",
    "    images = sorted(glob(os.path.join(path, 'images', '*.png')))\n",
    "    masks = sorted(glob(os.path.join(path, 'masks', '*.png')))\n",
    "\n",
    "    X_train, X_test, y_train, y_test = train_test_split(images, masks, test_size = split, random_state = 42)\n",
    "    X_train, X_valid, y_train, y_valid = train_test_split(X_train, y_train, test_size = 0.2, random_state = 42)\n",
    "\n",
    "    return (X_train, y_train), (X_test, y_test), (X_valid, y_valid)"
   ]
  },
  {
   "cell_type": "code",
   "execution_count": 5,
   "metadata": {},
   "outputs": [],
   "source": [
    "def read_image(path):\n",
    "    path = path.decode()\n",
    "\n",
    "    x = cv2.imread(path, cv2.IMREAD_COLOR)\n",
    "    x = cv2.resize(x, (Width, Height))\n",
    "    x = x / 255.0\n",
    "    x = x.astype(np.float32)\n",
    "\n",
    "    return x"
   ]
  },
  {
   "cell_type": "code",
   "execution_count": 6,
   "metadata": {},
   "outputs": [],
   "source": [
    "def read_mask(path):\n",
    "    path = path.decode()\n",
    "\n",
    "    x = cv2.imread(path, cv2.IMREAD_GRAYSCALE)\n",
    "    x = cv2.resize(x, (Width, Height))\n",
    "    x = x / 255.0\n",
    "    x = x.astype(np.float32)\n",
    "    x = np.expand_dims(x, axis = -1)\n",
    "\n",
    "    return x"
   ]
  },
  {
   "cell_type": "code",
   "execution_count": 7,
   "metadata": {},
   "outputs": [],
   "source": [
    "def tf_parse(x, y):\n",
    "    def _parse(x, y):\n",
    "        x = read_image(x)\n",
    "        y = read_mask(y)\n",
    "\n",
    "        return x, y\n",
    "    \n",
    "    x, y = tf.numpy_function(_parse, [x, y], [tf.float32, tf.float32])\n",
    "\n",
    "    x.set_shape([Height, Width, 3])\n",
    "    y.set_shape([Height, Width, 1])\n",
    "\n",
    "    return x, y"
   ]
  },
  {
   "cell_type": "code",
   "execution_count": 8,
   "metadata": {},
   "outputs": [],
   "source": [
    "def tf_dataset(X, Y, batch = 2):\n",
    "    dataset = tf.data.Dataset.from_tensor_slices((X, Y))\n",
    "    dataset = dataset.map(tf_parse)\n",
    "    dataset = dataset.batch(batch)\n",
    "    dataset = dataset.prefetch(20)\n",
    "\n",
    "    return dataset"
   ]
  },
  {
   "cell_type": "code",
   "execution_count": 9,
   "metadata": {},
   "outputs": [],
   "source": [
    "create_dir('files')"
   ]
  },
  {
   "cell_type": "code",
   "execution_count": 10,
   "metadata": {},
   "outputs": [
    {
     "name": "stdout",
     "output_type": "stream",
     "text": [
      "1173 \t 1173\n",
      "367 \t 367\n",
      "294 \t 294\n"
     ]
    }
   ],
   "source": [
    "batch_size = 16\n",
    "lr = 1e-4\n",
    "num_epochs = 30\n",
    "\n",
    "model_path = os.path.join('files', 'unet.h5')\n",
    "csv_path = os.path.join('files', 'log.csv')\n",
    "dataset_path = './files'\n",
    "\n",
    "(X_train, y_train), (X_test, y_test), (X_valid, y_valid) = load_dataset(dataset_path)\n",
    "\n",
    "print(len(X_train), '\\t', len(y_train))\n",
    "print(len(X_test), '\\t', len(y_test))\n",
    "print(len(X_valid), '\\t', len(y_valid))"
   ]
  },
  {
   "cell_type": "code",
   "execution_count": 11,
   "metadata": {},
   "outputs": [],
   "source": [
    "train_dataset = tf_dataset(X_train, y_train, batch_size)\n",
    "valid_dataset = tf_dataset(X_valid, y_valid, batch_size)\n",
    "test_dataset = tf_dataset(X_test, y_test, batch_size)"
   ]
  },
  {
   "cell_type": "code",
   "execution_count": 12,
   "metadata": {},
   "outputs": [],
   "source": [
    "del(X_train, X_valid, y_train, y_valid)"
   ]
  },
  {
   "attachments": {},
   "cell_type": "markdown",
   "metadata": {},
   "source": [
    "# Model"
   ]
  },
  {
   "cell_type": "code",
   "execution_count": 13,
   "metadata": {},
   "outputs": [],
   "source": [
    "from tensorflow.keras.layers import Conv2D, BatchNormalization, Activation, MaxPool2D, Conv2DTranspose, Concatenate, Input\n",
    "from tensorflow.keras.models import Model"
   ]
  },
  {
   "cell_type": "code",
   "execution_count": 14,
   "metadata": {},
   "outputs": [],
   "source": [
    "def conv_block(input, num_filters):\n",
    "    x = Conv2D(num_filters, 3, padding = 'same')(input)\n",
    "    x = BatchNormalization()(x)\n",
    "    x = Activation('relu')(x)\n",
    "\n",
    "    x = Conv2D(num_filters, 3, padding = 'same')(x)\n",
    "    x = BatchNormalization()(x)\n",
    "    x = Activation('relu')(x)\n",
    "\n",
    "    return x"
   ]
  },
  {
   "cell_type": "code",
   "execution_count": 15,
   "metadata": {},
   "outputs": [],
   "source": [
    "def encoder_block(input, num_filters):\n",
    "    x = conv_block(input, num_filters)\n",
    "    p = MaxPool2D((2, 2))(x)\n",
    "\n",
    "    return x, p"
   ]
  },
  {
   "cell_type": "code",
   "execution_count": 16,
   "metadata": {},
   "outputs": [],
   "source": [
    "def decoder_block(input, skip_features, num_filters):\n",
    "    x = Conv2DTranspose(num_filters, 2, strides = 2, padding = 'same')(input)\n",
    "    x = Concatenate()([x, skip_features])\n",
    "    x = conv_block(x, num_filters)\n",
    "\n",
    "    return x"
   ]
  },
  {
   "cell_type": "code",
   "execution_count": 17,
   "metadata": {},
   "outputs": [],
   "source": [
    "def unet_model(input_shape):\n",
    "    input = Input(input_shape)\n",
    "\n",
    "    s1, p1 = encoder_block(input, 32)\n",
    "    s2, p2 = encoder_block(p1, 64)\n",
    "    s3, p3 = encoder_block(p2, 128)\n",
    "    s4, p4 = encoder_block(p3, 256)\n",
    "\n",
    "    b1 = conv_block(p4, 512)\n",
    "\n",
    "    d1 = decoder_block(b1, s4, 256)\n",
    "    d2 = decoder_block(d1, s3, 128)\n",
    "    d3 = decoder_block(d2, s2, 64)\n",
    "    d4 = decoder_block(d3, s1, 32)\n",
    "\n",
    "    output = Conv2D(1, 1, padding = 'same', activation = 'sigmoid')(d4)\n",
    "\n",
    "    model = Model(input, output, name = 'UNET')\n",
    "\n",
    "    return model"
   ]
  },
  {
   "cell_type": "code",
   "execution_count": 18,
   "metadata": {},
   "outputs": [
    {
     "name": "stdout",
     "output_type": "stream",
     "text": [
      "Model: \"UNET\"\n",
      "__________________________________________________________________________________________________\n",
      " Layer (type)                   Output Shape         Param #     Connected to                     \n",
      "==================================================================================================\n",
      " input_1 (InputLayer)           [(None, 256, 256, 3  0           []                               \n",
      "                                )]                                                                \n",
      "                                                                                                  \n",
      " conv2d (Conv2D)                (None, 256, 256, 32  896         ['input_1[0][0]']                \n",
      "                                )                                                                 \n",
      "                                                                                                  \n",
      " batch_normalization (BatchNorm  (None, 256, 256, 32  128        ['conv2d[0][0]']                 \n",
      " alization)                     )                                                                 \n",
      "                                                                                                  \n",
      " activation (Activation)        (None, 256, 256, 32  0           ['batch_normalization[0][0]']    \n",
      "                                )                                                                 \n",
      "                                                                                                  \n",
      " conv2d_1 (Conv2D)              (None, 256, 256, 32  9248        ['activation[0][0]']             \n",
      "                                )                                                                 \n",
      "                                                                                                  \n",
      " batch_normalization_1 (BatchNo  (None, 256, 256, 32  128        ['conv2d_1[0][0]']               \n",
      " rmalization)                   )                                                                 \n",
      "                                                                                                  \n",
      " activation_1 (Activation)      (None, 256, 256, 32  0           ['batch_normalization_1[0][0]']  \n",
      "                                )                                                                 \n",
      "                                                                                                  \n",
      " max_pooling2d (MaxPooling2D)   (None, 128, 128, 32  0           ['activation_1[0][0]']           \n",
      "                                )                                                                 \n",
      "                                                                                                  \n",
      " conv2d_2 (Conv2D)              (None, 128, 128, 64  18496       ['max_pooling2d[0][0]']          \n",
      "                                )                                                                 \n",
      "                                                                                                  \n",
      " batch_normalization_2 (BatchNo  (None, 128, 128, 64  256        ['conv2d_2[0][0]']               \n",
      " rmalization)                   )                                                                 \n",
      "                                                                                                  \n",
      " activation_2 (Activation)      (None, 128, 128, 64  0           ['batch_normalization_2[0][0]']  \n",
      "                                )                                                                 \n",
      "                                                                                                  \n",
      " conv2d_3 (Conv2D)              (None, 128, 128, 64  36928       ['activation_2[0][0]']           \n",
      "                                )                                                                 \n",
      "                                                                                                  \n",
      " batch_normalization_3 (BatchNo  (None, 128, 128, 64  256        ['conv2d_3[0][0]']               \n",
      " rmalization)                   )                                                                 \n",
      "                                                                                                  \n",
      " activation_3 (Activation)      (None, 128, 128, 64  0           ['batch_normalization_3[0][0]']  \n",
      "                                )                                                                 \n",
      "                                                                                                  \n",
      " max_pooling2d_1 (MaxPooling2D)  (None, 64, 64, 64)  0           ['activation_3[0][0]']           \n",
      "                                                                                                  \n",
      " conv2d_4 (Conv2D)              (None, 64, 64, 128)  73856       ['max_pooling2d_1[0][0]']        \n",
      "                                                                                                  \n",
      " batch_normalization_4 (BatchNo  (None, 64, 64, 128)  512        ['conv2d_4[0][0]']               \n",
      " rmalization)                                                                                     \n",
      "                                                                                                  \n",
      " activation_4 (Activation)      (None, 64, 64, 128)  0           ['batch_normalization_4[0][0]']  \n",
      "                                                                                                  \n",
      " conv2d_5 (Conv2D)              (None, 64, 64, 128)  147584      ['activation_4[0][0]']           \n",
      "                                                                                                  \n",
      " batch_normalization_5 (BatchNo  (None, 64, 64, 128)  512        ['conv2d_5[0][0]']               \n",
      " rmalization)                                                                                     \n",
      "                                                                                                  \n",
      " activation_5 (Activation)      (None, 64, 64, 128)  0           ['batch_normalization_5[0][0]']  \n",
      "                                                                                                  \n",
      " max_pooling2d_2 (MaxPooling2D)  (None, 32, 32, 128)  0          ['activation_5[0][0]']           \n",
      "                                                                                                  \n",
      " conv2d_6 (Conv2D)              (None, 32, 32, 256)  295168      ['max_pooling2d_2[0][0]']        \n",
      "                                                                                                  \n",
      " batch_normalization_6 (BatchNo  (None, 32, 32, 256)  1024       ['conv2d_6[0][0]']               \n",
      " rmalization)                                                                                     \n",
      "                                                                                                  \n",
      " activation_6 (Activation)      (None, 32, 32, 256)  0           ['batch_normalization_6[0][0]']  \n",
      "                                                                                                  \n",
      " conv2d_7 (Conv2D)              (None, 32, 32, 256)  590080      ['activation_6[0][0]']           \n",
      "                                                                                                  \n",
      " batch_normalization_7 (BatchNo  (None, 32, 32, 256)  1024       ['conv2d_7[0][0]']               \n",
      " rmalization)                                                                                     \n",
      "                                                                                                  \n",
      " activation_7 (Activation)      (None, 32, 32, 256)  0           ['batch_normalization_7[0][0]']  \n",
      "                                                                                                  \n",
      " max_pooling2d_3 (MaxPooling2D)  (None, 16, 16, 256)  0          ['activation_7[0][0]']           \n",
      "                                                                                                  \n",
      " conv2d_8 (Conv2D)              (None, 16, 16, 512)  1180160     ['max_pooling2d_3[0][0]']        \n",
      "                                                                                                  \n",
      " batch_normalization_8 (BatchNo  (None, 16, 16, 512)  2048       ['conv2d_8[0][0]']               \n",
      " rmalization)                                                                                     \n",
      "                                                                                                  \n",
      " activation_8 (Activation)      (None, 16, 16, 512)  0           ['batch_normalization_8[0][0]']  \n",
      "                                                                                                  \n",
      " conv2d_9 (Conv2D)              (None, 16, 16, 512)  2359808     ['activation_8[0][0]']           \n",
      "                                                                                                  \n",
      " batch_normalization_9 (BatchNo  (None, 16, 16, 512)  2048       ['conv2d_9[0][0]']               \n",
      " rmalization)                                                                                     \n",
      "                                                                                                  \n",
      " activation_9 (Activation)      (None, 16, 16, 512)  0           ['batch_normalization_9[0][0]']  \n",
      "                                                                                                  \n",
      " conv2d_transpose (Conv2DTransp  (None, 32, 32, 256)  524544     ['activation_9[0][0]']           \n",
      " ose)                                                                                             \n",
      "                                                                                                  \n",
      " concatenate (Concatenate)      (None, 32, 32, 512)  0           ['conv2d_transpose[0][0]',       \n",
      "                                                                  'activation_7[0][0]']           \n",
      "                                                                                                  \n",
      " conv2d_10 (Conv2D)             (None, 32, 32, 256)  1179904     ['concatenate[0][0]']            \n",
      "                                                                                                  \n",
      " batch_normalization_10 (BatchN  (None, 32, 32, 256)  1024       ['conv2d_10[0][0]']              \n",
      " ormalization)                                                                                    \n",
      "                                                                                                  \n",
      " activation_10 (Activation)     (None, 32, 32, 256)  0           ['batch_normalization_10[0][0]'] \n",
      "                                                                                                  \n",
      " conv2d_11 (Conv2D)             (None, 32, 32, 256)  590080      ['activation_10[0][0]']          \n",
      "                                                                                                  \n",
      " batch_normalization_11 (BatchN  (None, 32, 32, 256)  1024       ['conv2d_11[0][0]']              \n",
      " ormalization)                                                                                    \n",
      "                                                                                                  \n",
      " activation_11 (Activation)     (None, 32, 32, 256)  0           ['batch_normalization_11[0][0]'] \n",
      "                                                                                                  \n",
      " conv2d_transpose_1 (Conv2DTran  (None, 64, 64, 128)  131200     ['activation_11[0][0]']          \n",
      " spose)                                                                                           \n",
      "                                                                                                  \n",
      " concatenate_1 (Concatenate)    (None, 64, 64, 256)  0           ['conv2d_transpose_1[0][0]',     \n",
      "                                                                  'activation_5[0][0]']           \n",
      "                                                                                                  \n",
      " conv2d_12 (Conv2D)             (None, 64, 64, 128)  295040      ['concatenate_1[0][0]']          \n",
      "                                                                                                  \n",
      " batch_normalization_12 (BatchN  (None, 64, 64, 128)  512        ['conv2d_12[0][0]']              \n",
      " ormalization)                                                                                    \n",
      "                                                                                                  \n",
      " activation_12 (Activation)     (None, 64, 64, 128)  0           ['batch_normalization_12[0][0]'] \n",
      "                                                                                                  \n",
      " conv2d_13 (Conv2D)             (None, 64, 64, 128)  147584      ['activation_12[0][0]']          \n",
      "                                                                                                  \n",
      " batch_normalization_13 (BatchN  (None, 64, 64, 128)  512        ['conv2d_13[0][0]']              \n",
      " ormalization)                                                                                    \n",
      "                                                                                                  \n",
      " activation_13 (Activation)     (None, 64, 64, 128)  0           ['batch_normalization_13[0][0]'] \n",
      "                                                                                                  \n",
      " conv2d_transpose_2 (Conv2DTran  (None, 128, 128, 64  32832      ['activation_13[0][0]']          \n",
      " spose)                         )                                                                 \n",
      "                                                                                                  \n",
      " concatenate_2 (Concatenate)    (None, 128, 128, 12  0           ['conv2d_transpose_2[0][0]',     \n",
      "                                8)                                'activation_3[0][0]']           \n",
      "                                                                                                  \n",
      " conv2d_14 (Conv2D)             (None, 128, 128, 64  73792       ['concatenate_2[0][0]']          \n",
      "                                )                                                                 \n",
      "                                                                                                  \n",
      " batch_normalization_14 (BatchN  (None, 128, 128, 64  256        ['conv2d_14[0][0]']              \n",
      " ormalization)                  )                                                                 \n",
      "                                                                                                  \n",
      " activation_14 (Activation)     (None, 128, 128, 64  0           ['batch_normalization_14[0][0]'] \n",
      "                                )                                                                 \n",
      "                                                                                                  \n",
      " conv2d_15 (Conv2D)             (None, 128, 128, 64  36928       ['activation_14[0][0]']          \n",
      "                                )                                                                 \n",
      "                                                                                                  \n",
      " batch_normalization_15 (BatchN  (None, 128, 128, 64  256        ['conv2d_15[0][0]']              \n",
      " ormalization)                  )                                                                 \n",
      "                                                                                                  \n",
      " activation_15 (Activation)     (None, 128, 128, 64  0           ['batch_normalization_15[0][0]'] \n",
      "                                )                                                                 \n",
      "                                                                                                  \n",
      " conv2d_transpose_3 (Conv2DTran  (None, 256, 256, 32  8224       ['activation_15[0][0]']          \n",
      " spose)                         )                                                                 \n",
      "                                                                                                  \n",
      " concatenate_3 (Concatenate)    (None, 256, 256, 64  0           ['conv2d_transpose_3[0][0]',     \n",
      "                                )                                 'activation_1[0][0]']           \n",
      "                                                                                                  \n",
      " conv2d_16 (Conv2D)             (None, 256, 256, 32  18464       ['concatenate_3[0][0]']          \n",
      "                                )                                                                 \n",
      "                                                                                                  \n",
      " batch_normalization_16 (BatchN  (None, 256, 256, 32  128        ['conv2d_16[0][0]']              \n",
      " ormalization)                  )                                                                 \n",
      "                                                                                                  \n",
      " activation_16 (Activation)     (None, 256, 256, 32  0           ['batch_normalization_16[0][0]'] \n",
      "                                )                                                                 \n",
      "                                                                                                  \n",
      " conv2d_17 (Conv2D)             (None, 256, 256, 32  9248        ['activation_16[0][0]']          \n",
      "                                )                                                                 \n",
      "                                                                                                  \n",
      " batch_normalization_17 (BatchN  (None, 256, 256, 32  128        ['conv2d_17[0][0]']              \n",
      " ormalization)                  )                                                                 \n",
      "                                                                                                  \n",
      " activation_17 (Activation)     (None, 256, 256, 32  0           ['batch_normalization_17[0][0]'] \n",
      "                                )                                                                 \n",
      "                                                                                                  \n",
      " conv2d_18 (Conv2D)             (None, 256, 256, 1)  33          ['activation_17[0][0]']          \n",
      "                                                                                                  \n",
      "==================================================================================================\n",
      "Total params: 7,771,873\n",
      "Trainable params: 7,765,985\n",
      "Non-trainable params: 5,888\n",
      "__________________________________________________________________________________________________\n"
     ]
    }
   ],
   "source": [
    "input_shape = (Width, Height, 3)\n",
    "model = unet_model(input_shape)\n",
    "model.summary()"
   ]
  },
  {
   "cell_type": "code",
   "execution_count": 19,
   "metadata": {},
   "outputs": [],
   "source": [
    "model.compile(loss = dice_loss, optimizer = Adam(lr), metrics = [dice_coef, iou])"
   ]
  },
  {
   "cell_type": "code",
   "execution_count": 20,
   "metadata": {},
   "outputs": [],
   "source": [
    "callbacks = [\n",
    "        ModelCheckpoint(model_path, verbose = 0, save_best_only=True),\n",
    "        ReduceLROnPlateau(monitor='val_loss', factor = 0.1, patience = 5, min_lr = 1e-7, verbose = 1),\n",
    "        CSVLogger(csv_path),\n",
    "        EarlyStopping(monitor='val_loss', patience = 8, restore_best_weights = True),\n",
    "    ]"
   ]
  },
  {
   "cell_type": "code",
   "execution_count": 21,
   "metadata": {},
   "outputs": [
    {
     "name": "stdout",
     "output_type": "stream",
     "text": [
      "Epoch 1/30\n",
      "74/74 [==============================] - 35s 350ms/step - loss: 0.9136 - dice_coef: 0.0878 - iou: 0.0463 - val_loss: 0.9649 - val_dice_coef: 0.0351 - val_iou: 0.0179 - lr: 1.0000e-04\n",
      "Epoch 2/30\n",
      "74/74 [==============================] - 23s 316ms/step - loss: 0.8305 - dice_coef: 0.1713 - iou: 0.0943 - val_loss: 0.9752 - val_dice_coef: 0.0247 - val_iou: 0.0125 - lr: 1.0000e-04\n",
      "Epoch 3/30\n",
      "74/74 [==============================] - 23s 309ms/step - loss: 0.7806 - dice_coef: 0.2214 - iou: 0.1252 - val_loss: 0.9863 - val_dice_coef: 0.0137 - val_iou: 0.0069 - lr: 1.0000e-04\n",
      "Epoch 4/30\n",
      "74/74 [==============================] - 23s 309ms/step - loss: 0.7336 - dice_coef: 0.2686 - iou: 0.1560 - val_loss: 0.9866 - val_dice_coef: 0.0133 - val_iou: 0.0067 - lr: 1.0000e-04\n",
      "Epoch 5/30\n",
      "74/74 [==============================] - 23s 309ms/step - loss: 0.6918 - dice_coef: 0.3103 - iou: 0.1848 - val_loss: 0.9780 - val_dice_coef: 0.0219 - val_iou: 0.0111 - lr: 1.0000e-04\n",
      "Epoch 6/30\n",
      "74/74 [==============================] - 23s 317ms/step - loss: 0.6507 - dice_coef: 0.3514 - iou: 0.2144 - val_loss: 0.9023 - val_dice_coef: 0.0954 - val_iou: 0.0502 - lr: 1.0000e-04\n",
      "Epoch 7/30\n",
      "74/74 [==============================] - 24s 320ms/step - loss: 0.6088 - dice_coef: 0.3933 - iou: 0.2463 - val_loss: 0.8284 - val_dice_coef: 0.1669 - val_iou: 0.0918 - lr: 1.0000e-04\n",
      "Epoch 8/30\n",
      "74/74 [==============================] - 23s 313ms/step - loss: 0.5642 - dice_coef: 0.4378 - iou: 0.2820 - val_loss: 0.6789 - val_dice_coef: 0.3180 - val_iou: 0.1907 - lr: 1.0000e-04\n",
      "Epoch 9/30\n",
      "74/74 [==============================] - 23s 315ms/step - loss: 0.5226 - dice_coef: 0.4795 - iou: 0.3172 - val_loss: 0.6248 - val_dice_coef: 0.3723 - val_iou: 0.2303 - lr: 1.0000e-04\n",
      "Epoch 10/30\n",
      "74/74 [==============================] - 23s 315ms/step - loss: 0.4894 - dice_coef: 0.5123 - iou: 0.3461 - val_loss: 0.6027 - val_dice_coef: 0.3959 - val_iou: 0.2479 - lr: 1.0000e-04\n",
      "Epoch 11/30\n",
      "74/74 [==============================] - 24s 318ms/step - loss: 0.4476 - dice_coef: 0.5542 - iou: 0.3853 - val_loss: 0.5720 - val_dice_coef: 0.4275 - val_iou: 0.2737 - lr: 1.0000e-04\n",
      "Epoch 12/30\n",
      "74/74 [==============================] - 24s 323ms/step - loss: 0.4094 - dice_coef: 0.5923 - iou: 0.4228 - val_loss: 0.5157 - val_dice_coef: 0.4811 - val_iou: 0.3187 - lr: 1.0000e-04\n",
      "Epoch 13/30\n",
      "74/74 [==============================] - 23s 315ms/step - loss: 0.3702 - dice_coef: 0.6315 - iou: 0.4636 - val_loss: 0.4967 - val_dice_coef: 0.4958 - val_iou: 0.3321 - lr: 1.0000e-04\n",
      "Epoch 14/30\n",
      "74/74 [==============================] - 23s 314ms/step - loss: 0.3363 - dice_coef: 0.6652 - iou: 0.5003 - val_loss: 0.4800 - val_dice_coef: 0.5165 - val_iou: 0.3506 - lr: 1.0000e-04\n",
      "Epoch 15/30\n",
      "74/74 [==============================] - 23s 313ms/step - loss: 0.3097 - dice_coef: 0.6917 - iou: 0.5307 - val_loss: 0.4710 - val_dice_coef: 0.5264 - val_iou: 0.3604 - lr: 1.0000e-04\n",
      "Epoch 16/30\n",
      "74/74 [==============================] - 24s 318ms/step - loss: 0.2794 - dice_coef: 0.7218 - iou: 0.5666 - val_loss: 0.4466 - val_dice_coef: 0.5497 - val_iou: 0.3822 - lr: 1.0000e-04\n",
      "Epoch 17/30\n",
      "74/74 [==============================] - 24s 319ms/step - loss: 0.2538 - dice_coef: 0.7474 - iou: 0.5985 - val_loss: 0.3982 - val_dice_coef: 0.6003 - val_iou: 0.4311 - lr: 1.0000e-04\n",
      "Epoch 18/30\n",
      "74/74 [==============================] - 23s 313ms/step - loss: 0.2302 - dice_coef: 0.7709 - iou: 0.6286 - val_loss: 0.3839 - val_dice_coef: 0.6158 - val_iou: 0.4478 - lr: 1.0000e-04\n",
      "Epoch 19/30\n",
      "74/74 [==============================] - 23s 314ms/step - loss: 0.2154 - dice_coef: 0.7857 - iou: 0.6484 - val_loss: 0.3733 - val_dice_coef: 0.6269 - val_iou: 0.4597 - lr: 1.0000e-04\n",
      "Epoch 20/30\n",
      "74/74 [==============================] - 23s 311ms/step - loss: 0.1965 - dice_coef: 0.8044 - iou: 0.6739 - val_loss: 0.3805 - val_dice_coef: 0.6190 - val_iou: 0.4522 - lr: 1.0000e-04\n",
      "Epoch 21/30\n",
      "74/74 [==============================] - 23s 315ms/step - loss: 0.1894 - dice_coef: 0.8114 - iou: 0.6840 - val_loss: 0.3579 - val_dice_coef: 0.6401 - val_iou: 0.4745 - lr: 1.0000e-04\n",
      "Epoch 22/30\n",
      "74/74 [==============================] - 24s 318ms/step - loss: 0.1734 - dice_coef: 0.8273 - iou: 0.7067 - val_loss: 0.3706 - val_dice_coef: 0.6297 - val_iou: 0.4623 - lr: 1.0000e-04\n",
      "Epoch 23/30\n",
      "74/74 [==============================] - 23s 313ms/step - loss: 0.1553 - dice_coef: 0.8454 - iou: 0.7331 - val_loss: 0.3477 - val_dice_coef: 0.6523 - val_iou: 0.4877 - lr: 1.0000e-04\n",
      "Epoch 24/30\n",
      "74/74 [==============================] - 23s 309ms/step - loss: 0.1446 - dice_coef: 0.8559 - iou: 0.7489 - val_loss: 0.3481 - val_dice_coef: 0.6514 - val_iou: 0.4872 - lr: 1.0000e-04\n",
      "Epoch 25/30\n",
      "74/74 [==============================] - 23s 309ms/step - loss: 0.1369 - dice_coef: 0.8637 - iou: 0.7608 - val_loss: 0.3804 - val_dice_coef: 0.6181 - val_iou: 0.4525 - lr: 1.0000e-04\n",
      "Epoch 26/30\n",
      "74/74 [==============================] - 23s 308ms/step - loss: 0.1317 - dice_coef: 0.8689 - iou: 0.7688 - val_loss: 0.3491 - val_dice_coef: 0.6500 - val_iou: 0.4864 - lr: 1.0000e-04\n",
      "Epoch 27/30\n",
      "74/74 [==============================] - 24s 318ms/step - loss: 0.1286 - dice_coef: 0.8720 - iou: 0.7736 - val_loss: 0.3447 - val_dice_coef: 0.6530 - val_iou: 0.4897 - lr: 1.0000e-04\n",
      "Epoch 28/30\n",
      "74/74 [==============================] - 23s 315ms/step - loss: 0.1196 - dice_coef: 0.8810 - iou: 0.7878 - val_loss: 0.2992 - val_dice_coef: 0.6989 - val_iou: 0.5407 - lr: 1.0000e-04\n",
      "Epoch 29/30\n",
      "74/74 [==============================] - 23s 309ms/step - loss: 0.1132 - dice_coef: 0.8873 - iou: 0.7979 - val_loss: 0.3748 - val_dice_coef: 0.6205 - val_iou: 0.4549 - lr: 1.0000e-04\n",
      "Epoch 30/30\n",
      "74/74 [==============================] - 23s 311ms/step - loss: 0.1055 - dice_coef: 0.8949 - iou: 0.8103 - val_loss: 0.3193 - val_dice_coef: 0.6795 - val_iou: 0.5185 - lr: 1.0000e-04\n"
     ]
    }
   ],
   "source": [
    "model_hist = model.fit(\n",
    "        train_dataset,\n",
    "        epochs = num_epochs,\n",
    "        validation_data = valid_dataset,\n",
    "        callbacks = callbacks\n",
    "    )"
   ]
  },
  {
   "cell_type": "code",
   "execution_count": 22,
   "metadata": {},
   "outputs": [
    {
     "data": {
      "image/png": "[encoded data removed]",
      "text/plain": [
       "<Figure size 640x480 with 1 Axes>"
      ]
     },
     "metadata": {},
     "output_type": "display_data"
    },
    {
     "data": {
      "image/png": "[encoded data removed]",
      "text/plain": [
       "<Figure size 640x480 with 1 Axes>"
      ]
     },
     "metadata": {},
     "output_type": "display_data"
    }
   ],
   "source": [
    "from matplotlib import pyplot as plt\n",
    "\n",
    "loss = model_hist.history['loss']\n",
    "val_loss = model_hist.history['val_loss']\n",
    "epochs = range(1, len(loss) + 1)\n",
    "plt.plot(epochs, loss, 'y', label='Training loss')\n",
    "plt.plot(epochs, val_loss, 'r', label='Validation loss') \n",
    "plt.title('Training and validation loss')\n",
    "plt.xlabel('Epochs')\n",
    "plt.ylabel('Loss')\n",
    "plt.legend()\n",
    "plt.show()\n",
    "\n",
    "acc = model_hist.history['iou']\n",
    "val_acc = model_hist.history['val_iou']\n",
    "\n",
    "plt.plot(epochs, acc, 'y', label='Training IOU')\n",
    "plt.plot(epochs, val_acc, 'r', label='Validation IOU')\n",
    "plt.title('Training and validation IOU')\n",
    "plt.xlabel('Epochs')\n",
    "plt.ylabel('IOU')\n",
    "plt.legend()\n",
    "plt.show()"
   ]
  },
  {
   "attachments": {},
   "cell_type": "markdown",
   "metadata": {},
   "source": [
    "# Testing"
   ]
  },
  {
   "cell_type": "code",
   "execution_count": 23,
   "metadata": {},
   "outputs": [],
   "source": [
    "create_dir('results')"
   ]
  },
  {
   "cell_type": "code",
   "execution_count": 24,
   "metadata": {},
   "outputs": [],
   "source": [
    "# from tensorflow.keras.utils import CustomObjectScope\n",
    "\n",
    "# with CustomObjectScope({\"iou\": iou, \"dice_coef\": dice_coef, \"dice_loss\": dice_loss}):\n",
    "#     model = tf.keras.models.load_model(os.path.join(\"files\", \"model.h5\"))"
   ]
  },
  {
   "cell_type": "code",
   "execution_count": 25,
   "metadata": {},
   "outputs": [],
   "source": [
    "def save_results(image, mask, y_pred, save_image_path):\n",
    "    mask = np.expand_dims(mask, axis=-1)\n",
    "    mask = np.concatenate([mask, mask, mask], axis=-1)\n",
    "\n",
    "    y_pred = np.expand_dims(y_pred, axis=-1)\n",
    "    y_pred = np.concatenate([y_pred, y_pred, y_pred], axis=-1)\n",
    "    y_pred = y_pred * 255\n",
    "\n",
    "    line = np.ones((Height, 10, 3)) * 255\n",
    "\n",
    "    cat_images = np.concatenate([image, line, mask, line, y_pred], axis=1)\n",
    "    cv2.imwrite(save_image_path, cat_images)"
   ]
  },
  {
   "cell_type": "code",
   "execution_count": 26,
   "metadata": {},
   "outputs": [],
   "source": [
    "from sklearn.metrics import f1_score, jaccard_score, precision_score, recall_score\n",
    "\n",
    "SCORE = []\n",
    "for x, y in zip(X_test, y_test):\n",
    "    \"\"\" Extracting the name \"\"\"\n",
    "    name = x.split(\"/\")[-1]\n",
    "\n",
    "    \"\"\" Reading the image \"\"\"\n",
    "    image = cv2.imread(x, cv2.IMREAD_COLOR) ## [H, w, 3]\n",
    "    image = cv2.resize(image, (Width, Height)) ## [H, w, 3]\n",
    "    x = image/255.0                         ## [H, w, 3]\n",
    "    x = np.expand_dims(x, axis=0)           ## [1, H, w, 3]\n",
    "\n",
    "    \"\"\" Reading the mask \"\"\"\n",
    "    mask = cv2.imread(y, cv2.IMREAD_GRAYSCALE)\n",
    "    mask = cv2.resize(mask, (Width, Height))\n",
    "\n",
    "    \"\"\" Prediction \"\"\"\n",
    "    y_pred = model.predict(x, verbose=0)[0]\n",
    "    y_pred = np.squeeze(y_pred, axis=-1)\n",
    "    y_pred = y_pred >= 0.5\n",
    "    y_pred = y_pred.astype(np.int32)\n",
    "\n",
    "    \"\"\" Saving the prediction \"\"\"\n",
    "    save_image_path = os.path.join(\"results\", name)\n",
    "    save_results(image, mask, y_pred, save_image_path)\n",
    "\n",
    "    \"\"\" Flatten the array \"\"\"\n",
    "    mask = mask/255.0\n",
    "    mask = (mask > 0.5).astype(np.int32).flatten()\n",
    "    y_pred = y_pred.flatten()\n",
    "\n",
    "    \"\"\" Calculating the metrics values \"\"\"\n",
    "    f1_value = f1_score(mask, y_pred, labels=[0, 1], average=\"binary\")\n",
    "    jac_value = jaccard_score(mask, y_pred, labels=[0, 1], average=\"binary\")\n",
    "    recall_value = recall_score(mask, y_pred, labels=[0, 1], average=\"binary\", zero_division=0)\n",
    "    precision_value = precision_score(mask, y_pred, labels=[0, 1], average=\"binary\", zero_division=0)\n",
    "    iou_value = iou(mask, y_pred)\n",
    "    SCORE.append([name, f1_value, jac_value, recall_value, precision_value, iou_value])"
   ]
  },
  {
   "cell_type": "code",
   "execution_count": 27,
   "metadata": {},
   "outputs": [
    {
     "name": "stdout",
     "output_type": "stream",
     "text": [
      "F1: 0.65794\n",
      "IoU: 0.56898\n",
      "Recall: 0.61610\n",
      "Precision: 0.78109\n",
      "IoU: 0.56898\n"
     ]
    }
   ],
   "source": [
    "import pandas as pd\n",
    "\n",
    "score = [s[1:]for s in SCORE]\n",
    "score = np.mean(score, axis=0)\n",
    "print(f\"F1: {score[0]:0.5f}\")\n",
    "print(f\"IoU: {score[1]:0.5f}\")\n",
    "print(f\"Recall: {score[2]:0.5f}\")\n",
    "print(f\"Precision: {score[3]:0.5f}\")\n",
    "print(f\"IoU: {score[4]:0.5f}\")\n",
    "\n",
    "df = pd.DataFrame(SCORE, columns=[\"Image\", \"F1\", \"IoU\", \"Recall\", \"Precision\", \"IoU\"])\n",
    "df.to_csv(\"files/score.csv\")"
   ]
  },
  {
   "cell_type": "code",
   "execution_count": null,
   "metadata": {},
   "outputs": [],
   "source": []
  }
 ],
 "metadata": {
  "kernelspec": {
   "display_name": "tf",
   "language": "python",
   "name": "python3"
  },
  "language_info": {
   "codemirror_mode": {
    "name": "ipython",
    "version": 3
   },
   "file_extension": ".py",
   "mimetype": "text/x-python",
   "name": "python",
   "nbconvert_exporter": "python",
   "pygments_lexer": "ipython3",
   "version": "3.10.11"
  },
  "orig_nbformat": 4
 },
 "nbformat": 4,
 "nbformat_minor": 2
}
